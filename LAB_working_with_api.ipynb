{
 "cells": [
  {
   "cell_type": "markdown",
   "id": "1c35abb5",
   "metadata": {},
   "source": [
    "# LAB | Working with API's"
   ]
  },
  {
   "cell_type": "code",
   "execution_count": null,
   "id": "2c23ce79",
   "metadata": {},
   "outputs": [],
   "source": [
    "# Yahoo Weather api\n",
    "# App ID\n",
    "# HpA3XRh6\n",
    "# Client ID\n",
    "# dj0yJmk9aWlUS3RQY1JuMFBMJmQ9WVdrOVNIQkJNMWhTYURZbWNHbzlNQT09JnM9Y29uc3VtZXJzZWNyZXQmc3Y9MCZ4PWE4\n",
    "# Client Secret (Consumer Secret)\n",
    "# 5a2816091bf1b4fde64bdb073435d042317803d2"
   ]
  },
  {
   "cell_type": "code",
   "execution_count": null,
   "id": "7da52f96",
   "metadata": {},
   "outputs": [],
   "source": []
  },
  {
   "cell_type": "code",
   "execution_count": null,
   "id": "cda593f6",
   "metadata": {},
   "outputs": [],
   "source": []
  },
  {
   "cell_type": "code",
   "execution_count": null,
   "id": "18dd9e22",
   "metadata": {},
   "outputs": [],
   "source": []
  },
  {
   "cell_type": "code",
   "execution_count": null,
   "id": "b3be8a8a",
   "metadata": {},
   "outputs": [],
   "source": []
  },
  {
   "cell_type": "code",
   "execution_count": null,
   "id": "89de8c74",
   "metadata": {},
   "outputs": [],
   "source": []
  },
  {
   "cell_type": "code",
   "execution_count": null,
   "id": "dab2ee9e",
   "metadata": {},
   "outputs": [],
   "source": [
    "# KNMI - Dutch weather institute\n",
    "# Available till 1 June 2022\n",
    "# eyJvcmciOiI1ZTU1NGUxOTI3NGE5NjAwMDEyYTNlYjEiLCJpZCI6ImNjOWE2YjM3ZjVhODQwMDZiMWIzZGIzZDRjYzVjODFiIiwiaCI6Im11cm11cjEyOCJ9"
   ]
  },
  {
   "cell_type": "code",
   "execution_count": null,
   "id": "fa2e79b1",
   "metadata": {},
   "outputs": [],
   "source": [
    "# Endpoint\n",
    "# https://api.dataplatform.knmi.nl/open-data/v1/datasets/wins50_wfp_nl_ts_singlepoint/versions/2/files"
   ]
  }
 ],
 "metadata": {
  "kernelspec": {
   "display_name": "Python 3",
   "language": "python",
   "name": "python3"
  },
  "language_info": {
   "codemirror_mode": {
    "name": "ipython",
    "version": 3
   },
   "file_extension": ".py",
   "mimetype": "text/x-python",
   "name": "python",
   "nbconvert_exporter": "python",
   "pygments_lexer": "ipython3",
   "version": "3.8.8"
  }
 },
 "nbformat": 4,
 "nbformat_minor": 5
}
